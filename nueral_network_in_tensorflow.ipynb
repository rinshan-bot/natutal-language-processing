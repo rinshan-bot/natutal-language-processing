{
  "nbformat": 4,
  "nbformat_minor": 0,
  "metadata": {
    "colab": {
      "provenance": [],
      "gpuType": "T4",
      "authorship_tag": "ABX9TyNelCSpWb2XNkXp8DA5VnHh",
      "include_colab_link": true
    },
    "kernelspec": {
      "name": "python3",
      "display_name": "Python 3"
    },
    "language_info": {
      "name": "python"
    },
    "accelerator": "GPU"
  },
  "cells": [
    {
      "cell_type": "markdown",
      "metadata": {
        "id": "view-in-github",
        "colab_type": "text"
      },
      "source": [
        "<a href=\"https://colab.research.google.com/github/rinshan-bot/natutal-language-processing/blob/main/nueral_network_in_tensorflow.ipynb\" target=\"_parent\"><img src=\"https://colab.research.google.com/assets/colab-badge.svg\" alt=\"Open In Colab\"/></a>"
      ]
    },
    {
      "cell_type": "code",
      "execution_count": 9,
      "metadata": {
        "id": "mhxl0rwMVazN"
      },
      "outputs": [],
      "source": [
        "import tensorflow as tf\n",
        "from tensorflow import keras\n",
        "from tensorflow.keras import layers\n",
        "from tensorflow.keras.datasets import mnist\n",
        "import sys"
      ]
    },
    {
      "cell_type": "code",
      "source": [
        "(x_train, y_train), (x_test, y_test) = mnist.load_data()\n",
        "x_train = x_train.reshape(-1, 28 * 28).astype(\"float32\") / 255.0\n",
        "x_test = x_test.reshape(-1, 28 * 28).astype(\"float32\") / 255.0\n",
        "print(x_train.shape)"
      ],
      "metadata": {
        "colab": {
          "base_uri": "https://localhost:8080/"
        },
        "id": "NRR9ewrAVrnA",
        "outputId": "8b59ce74-eaa1-49cd-e5f5-4ea7ce21c2bf"
      },
      "execution_count": 17,
      "outputs": [
        {
          "output_type": "stream",
          "name": "stdout",
          "text": [
            "(60000, 784)\n"
          ]
        }
      ]
    },
    {
      "cell_type": "code",
      "source": [
        "model = keras.Sequential(\n",
        "    [\n",
        "        layers.Input(shape=(28*28)), # This layer here will helps to print summary of model before fit\n",
        "        layers.Dense(512,activation='relu'),\n",
        "        layers.Dense(256,activation='relu'),\n",
        "        layers.Dense(10), # 10 Outputs\n",
        "    ]\n",
        ")\n",
        "print(model.summary())\n",
        "# sys.exit()\n",
        "# model = keras.Sequential()\n",
        "# model.add(keras.Input(shape=(784)))\n",
        "# model.add(layers.Dense(512, activation=\"relu\"))\n",
        "# model.add(layers.Dense(256, activation=\"relu\", name=\"my_layer\"))\n",
        "# model.add(layers.Dense(10))\n",
        "model.compile(\n",
        "    loss=keras.losses.SparseCategoricalCrossentropy(from_logits=True),\n",
        "    optimizer=keras.optimizers.Adam(learning_rate=0.001),\n",
        "    metrics=[\"accuracy\"],\n",
        ")\n",
        "model.fit(x_train,y_train,batch_size=32,epochs=5,verbose=2)\n",
        "model.evaluate(x_test,y_test,batch_size=32,verbose=2)"
      ],
      "metadata": {
        "colab": {
          "base_uri": "https://localhost:8080/"
        },
        "id": "pQXkVXd8WA4q",
        "outputId": "d0840a7b-c359-4ea8-8854-3eae125f674b"
      },
      "execution_count": 20,
      "outputs": [
        {
          "output_type": "stream",
          "name": "stdout",
          "text": [
            "Model: \"sequential_7\"\n",
            "_________________________________________________________________\n",
            " Layer (type)                Output Shape              Param #   \n",
            "=================================================================\n",
            " dense_20 (Dense)            (None, 512)               401920    \n",
            "                                                                 \n",
            " dense_21 (Dense)            (None, 256)               131328    \n",
            "                                                                 \n",
            " dense_22 (Dense)            (None, 10)                2570      \n",
            "                                                                 \n",
            "=================================================================\n",
            "Total params: 535,818\n",
            "Trainable params: 535,818\n",
            "Non-trainable params: 0\n",
            "_________________________________________________________________\n",
            "None\n",
            "Epoch 1/5\n",
            "1875/1875 - 5s - loss: 0.1869 - accuracy: 0.9439 - 5s/epoch - 3ms/step\n",
            "Epoch 2/5\n",
            "1875/1875 - 4s - loss: 0.0790 - accuracy: 0.9750 - 4s/epoch - 2ms/step\n",
            "Epoch 3/5\n",
            "1875/1875 - 4s - loss: 0.0561 - accuracy: 0.9827 - 4s/epoch - 2ms/step\n",
            "Epoch 4/5\n",
            "1875/1875 - 4s - loss: 0.0415 - accuracy: 0.9870 - 4s/epoch - 2ms/step\n",
            "Epoch 5/5\n",
            "1875/1875 - 4s - loss: 0.0322 - accuracy: 0.9891 - 4s/epoch - 2ms/step\n",
            "313/313 - 1s - loss: 0.0911 - accuracy: 0.9750 - 694ms/epoch - 2ms/step\n"
          ]
        },
        {
          "output_type": "execute_result",
          "data": {
            "text/plain": [
              "[0.09114302694797516, 0.9750000238418579]"
            ]
          },
          "metadata": {},
          "execution_count": 20
        }
      ]
    },
    {
      "cell_type": "code",
      "source": [
        "# Different method\n",
        "model = keras.Sequential()\n",
        "model.add(keras.Input(shape=(784)))\n",
        "model.add(layers.Dense(512, activation=\"relu\"))\n",
        "model.add(layers.Dense(256, activation=\"relu\", name=\"my_layer\"))\n",
        "model.add(layers.Dense(10))\n",
        "model.compile(\n",
        "    loss=keras.losses.SparseCategoricalCrossentropy(from_logits=True),\n",
        "    optimizer=keras.optimizers.Adam(learning_rate=0.001),\n",
        "    metrics=[\"accuracy\"],\n",
        ")\n",
        "model.fit(x_train,y_train,batch_size=32,epochs=5,verbose=2)\n",
        "model.evaluate(x_test,y_test,batch_size=32,verbose=2)"
      ],
      "metadata": {
        "colab": {
          "base_uri": "https://localhost:8080/"
        },
        "id": "DP6rXnqpDoqJ",
        "outputId": "9ee3eba5-7bc7-470e-8a45-a3e6e918d63f"
      },
      "execution_count": 21,
      "outputs": [
        {
          "output_type": "stream",
          "name": "stdout",
          "text": [
            "Model: \"sequential_8\"\n",
            "_________________________________________________________________\n",
            " Layer (type)                Output Shape              Param #   \n",
            "=================================================================\n",
            " dense_23 (Dense)            (None, 512)               401920    \n",
            "                                                                 \n",
            " dense_24 (Dense)            (None, 256)               131328    \n",
            "                                                                 \n",
            " dense_25 (Dense)            (None, 10)                2570      \n",
            "                                                                 \n",
            "=================================================================\n",
            "Total params: 535,818\n",
            "Trainable params: 535,818\n",
            "Non-trainable params: 0\n",
            "_________________________________________________________________\n",
            "None\n",
            "Epoch 1/5\n",
            "1875/1875 - 5s - loss: 0.1855 - accuracy: 0.9436 - 5s/epoch - 3ms/step\n",
            "Epoch 2/5\n",
            "1875/1875 - 5s - loss: 0.0800 - accuracy: 0.9753 - 5s/epoch - 3ms/step\n",
            "Epoch 3/5\n",
            "1875/1875 - 4s - loss: 0.0544 - accuracy: 0.9826 - 4s/epoch - 2ms/step\n",
            "Epoch 4/5\n",
            "1875/1875 - 4s - loss: 0.0403 - accuracy: 0.9864 - 4s/epoch - 2ms/step\n",
            "Epoch 5/5\n",
            "1875/1875 - 5s - loss: 0.0327 - accuracy: 0.9891 - 5s/epoch - 2ms/step\n",
            "313/313 - 1s - loss: 0.0647 - accuracy: 0.9815 - 788ms/epoch - 3ms/step\n"
          ]
        },
        {
          "output_type": "execute_result",
          "data": {
            "text/plain": [
              "[0.06469424068927765, 0.9815000295639038]"
            ]
          },
          "metadata": {},
          "execution_count": 21
        }
      ]
    },
    {
      "cell_type": "code",
      "source": [
        "# Keras Functional API\n",
        "inputs = keras.Input(shape=(784))\n",
        "x = layers.Dense(512, activation=\"relu\", name=\"first_layer\")(inputs)\n",
        "x = layers.Dense(256, activation=\"relu\", name=\"second_layer\")(x)\n",
        "outputs = layers.Dense(10, activation=\"softmax\")(x)\n",
        "model = keras.Model(inputs=inputs, outputs=outputs)\n",
        "\n",
        "model.compile(\n",
        "    loss=keras.losses.SparseCategoricalCrossentropy(from_logits=False),# Activation softmax given in the output layer, so from_logits = False\n",
        "    optimizer=keras.optimizers.Adam(lr=0.001),\n",
        "    metrics=[\"accuracy\"],\n",
        ")\n",
        "\n",
        "model.fit(x_train, y_train, batch_size=32, epochs=5, verbose=2)\n",
        "model.evaluate(x_test, y_test, batch_size=32, verbose=2)"
      ],
      "metadata": {
        "colab": {
          "base_uri": "https://localhost:8080/"
        },
        "id": "C-OTwJXYGIKI",
        "outputId": "ae6edc61-a147-4c9d-d1e6-e9230e47eb22"
      },
      "execution_count": 22,
      "outputs": [
        {
          "output_type": "stream",
          "name": "stderr",
          "text": [
            "WARNING:absl:`lr` is deprecated in Keras optimizer, please use `learning_rate` or use the legacy optimizer, e.g.,tf.keras.optimizers.legacy.Adam.\n"
          ]
        },
        {
          "output_type": "stream",
          "name": "stdout",
          "text": [
            "Epoch 1/5\n",
            "1875/1875 - 5s - loss: 0.1846 - accuracy: 0.9432 - 5s/epoch - 3ms/step\n",
            "Epoch 2/5\n",
            "1875/1875 - 4s - loss: 0.0790 - accuracy: 0.9753 - 4s/epoch - 2ms/step\n",
            "Epoch 3/5\n",
            "1875/1875 - 5s - loss: 0.0541 - accuracy: 0.9825 - 5s/epoch - 2ms/step\n",
            "Epoch 4/5\n",
            "1875/1875 - 5s - loss: 0.0408 - accuracy: 0.9866 - 5s/epoch - 3ms/step\n",
            "Epoch 5/5\n",
            "1875/1875 - 5s - loss: 0.0336 - accuracy: 0.9886 - 5s/epoch - 3ms/step\n",
            "313/313 - 1s - loss: 0.0684 - accuracy: 0.9802 - 957ms/epoch - 3ms/step\n"
          ]
        },
        {
          "output_type": "execute_result",
          "data": {
            "text/plain": [
              "[0.0683709979057312, 0.9801999926567078]"
            ]
          },
          "metadata": {},
          "execution_count": 22
        }
      ]
    },
    {
      "cell_type": "code",
      "source": [
        "print(model.summary()) # Name is given in each layer"
      ],
      "metadata": {
        "colab": {
          "base_uri": "https://localhost:8080/"
        },
        "id": "-xAeYZZWJA5v",
        "outputId": "bcc3c56e-d8d9-462b-ded6-5ad9ee4a9e9a"
      },
      "execution_count": 23,
      "outputs": [
        {
          "output_type": "stream",
          "name": "stdout",
          "text": [
            "Model: \"model\"\n",
            "_________________________________________________________________\n",
            " Layer (type)                Output Shape              Param #   \n",
            "=================================================================\n",
            " input_8 (InputLayer)        [(None, 784)]             0         \n",
            "                                                                 \n",
            " first_layer (Dense)         (None, 512)               401920    \n",
            "                                                                 \n",
            " second_layer (Dense)        (None, 256)               131328    \n",
            "                                                                 \n",
            " dense_26 (Dense)            (None, 10)                2570      \n",
            "                                                                 \n",
            "=================================================================\n",
            "Total params: 535,818\n",
            "Trainable params: 535,818\n",
            "Non-trainable params: 0\n",
            "_________________________________________________________________\n",
            "None\n"
          ]
        }
      ]
    },
    {
      "cell_type": "code",
      "source": [
        "# Different method\n",
        "model = keras.Sequential()\n",
        "model.add(keras.Input(shape=(784)))\n",
        "model.add(layers.Dense(512, activation=\"relu\"))\n",
        "model.add(layers.Dense(256, activation=\"relu\", name=\"my_layer\"))\n",
        "model.add(layers.Dense(10))\n",
        "model = keras.Model(inputs=model.inputs,outputs=[model.layers[-2].output]) # check here\n",
        "\n",
        "features = model.predict(x_train)\n",
        "print(features)\n",
        "print(features.shape)\n",
        "\n",
        "# model.compile(\n",
        "#     loss=keras.losses.SparseCategoricalCrossentropy(from_logits=True),\n",
        "#     optimizer=keras.optimizers.Adam(learning_rate=0.001),\n",
        "#     metrics=[\"accuracy\"],\n",
        "# )\n",
        "# model.fit(x_train,y_train,batch_size=32,epochs=5,verbose=2)\n",
        "# model.evaluate(x_test,y_test,batch_size=32,verbose=2)"
      ],
      "metadata": {
        "colab": {
          "base_uri": "https://localhost:8080/"
        },
        "id": "Wf_AH0oKJlS6",
        "outputId": "8dcf8958-c06c-4c89-8ad3-df5b68c36c58"
      },
      "execution_count": 27,
      "outputs": [
        {
          "output_type": "stream",
          "name": "stdout",
          "text": [
            "1875/1875 [==============================] - 3s 1ms/step\n",
            "[[0.         0.         0.11914954 ... 0.         0.05840763 0.16553107]\n",
            " [0.         0.         0.16789174 ... 0.         0.21142668 0.23205473]\n",
            " [0.         0.         0.         ... 0.07483047 0.01181898 0.26795885]\n",
            " ...\n",
            " [0.         0.         0.4474729  ... 0.         0.01816628 0.12823659]\n",
            " [0.15860078 0.03627227 0.25473797 ... 0.         0.55655503 0.19232082]\n",
            " [0.         0.08942214 0.27481958 ... 0.         0.31744528 0.06734636]]\n",
            "(60000, 256)\n"
          ]
        }
      ]
    },
    {
      "cell_type": "code",
      "source": [
        "model = keras.Sequential()\n",
        "model.add(keras.Input(shape=(784)))\n",
        "model.add(layers.Dense(512, activation=\"relu\"))\n",
        "model.add(layers.Dense(256, activation=\"relu\", name=\"my_layer\"))\n",
        "model.add(layers.Dense(10))\n",
        "model = keras.Model(inputs=model.inputs,outputs=[model.get_layer('my_layer').output]) # check here\n",
        "\n",
        "features = model.predict(x_train)\n",
        "print(features)\n",
        "print(features.shape)"
      ],
      "metadata": {
        "colab": {
          "base_uri": "https://localhost:8080/"
        },
        "id": "BOU6jKzgLB1Q",
        "outputId": "ff3a361c-7d04-41a6-a41a-a9b34d592872"
      },
      "execution_count": 28,
      "outputs": [
        {
          "output_type": "stream",
          "name": "stdout",
          "text": [
            "1875/1875 [==============================] - 3s 2ms/step\n",
            "[[0.09737147 0.05309635 0.         ... 0.0411184  0.30399966 0.        ]\n",
            " [0.29978648 0.10383243 0.         ... 0.01943773 0.         0.        ]\n",
            " [0.09891142 0.34768146 0.         ... 0.         0.         0.        ]\n",
            " ...\n",
            " [0.15921034 0.         0.         ... 0.         0.21316943 0.        ]\n",
            " [0.0360838  0.03637378 0.         ... 0.         0.         0.        ]\n",
            " [0.23892187 0.16737075 0.16492969 ... 0.         0.         0.        ]]\n",
            "(60000, 256)\n"
          ]
        }
      ]
    },
    {
      "cell_type": "code",
      "source": [
        "model = keras.Sequential()\n",
        "model.add(keras.Input(shape=(784)))\n",
        "model.add(layers.Dense(512, activation=\"relu\"))\n",
        "model.add(layers.Dense(256, activation=\"relu\", name=\"my_layer\"))\n",
        "model.add(layers.Dense(10))\n",
        "model = keras.Model(inputs=model.inputs,outputs=[layer.output for layer in model.layers]) # check here\n",
        "\n",
        "features = model.predict(x_train)\n",
        "for f in features:\n",
        "  print(f)\n",
        "  print(f.shape)"
      ],
      "metadata": {
        "colab": {
          "base_uri": "https://localhost:8080/"
        },
        "id": "I0VKMB4FLapy",
        "outputId": "204c3651-78f5-4be5-d0bb-4bded4c13805"
      },
      "execution_count": 30,
      "outputs": [
        {
          "output_type": "stream",
          "name": "stdout",
          "text": [
            "1875/1875 [==============================] - 3s 2ms/step\n",
            "[[0.17570661 0.3976204  0.         ... 0.         0.18548906 0.1453084 ]\n",
            " [0.         0.41661283 0.00104303 ... 0.         0.5052164  0.        ]\n",
            " [0.         0.2652535  0.         ... 0.04241446 0.62434196 0.        ]\n",
            " ...\n",
            " [0.         0.3068961  0.         ... 0.         0.26389614 0.        ]\n",
            " [0.         0.         0.         ... 0.32299846 0.3897093  0.        ]\n",
            " [0.         0.06962249 0.         ... 0.04564432 0.23506513 0.        ]]\n",
            "(60000, 512)\n",
            "[[0.0236685  0.         0.25300035 ... 0.46266305 0.22347276 0.        ]\n",
            " [0.5201557  0.         0.6905123  ... 0.         0.12561728 0.24993773]\n",
            " [0.1375761  0.         0.19560988 ... 0.49264723 0.47374552 0.24993253]\n",
            " ...\n",
            " [0.09924483 0.         0.05338606 ... 0.4322732  0.30810225 0.14675204]\n",
            " [0.23833588 0.         0.40938798 ... 0.03649402 0.16046292 0.25714156]\n",
            " [0.17953762 0.         0.         ... 0.         0.31693277 0.19330464]]\n",
            "(60000, 256)\n",
            "[[-0.3603517  -0.4377178  -0.18848951 ...  0.35133976  0.01678016\n",
            "  -0.13887985]\n",
            " [ 0.03878567 -0.20623845 -0.13075973 ... -0.11810252  0.05573674\n",
            "  -0.32943887]\n",
            " [-0.5443989  -0.04875426 -0.30937883 ... -0.00683607  0.05893605\n",
            "  -0.18419807]\n",
            " ...\n",
            " [ 0.01682944 -0.41116112  0.04853213 ...  0.18631735 -0.32851377\n",
            "  -0.2982999 ]\n",
            " [-0.09078382 -0.07794365 -0.05669367 ...  0.03335686  0.14780349\n",
            "   0.05625618]\n",
            " [-0.03727034 -0.05623837 -0.1547583  ... -0.08873184  0.22390589\n",
            "  -0.10750738]]\n",
            "(60000, 10)\n"
          ]
        }
      ]
    },
    {
      "cell_type": "code",
      "source": [],
      "metadata": {
        "id": "MNLdfmHjLr-y"
      },
      "execution_count": null,
      "outputs": []
    }
  ]
}