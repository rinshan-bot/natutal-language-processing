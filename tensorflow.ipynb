{
  "nbformat": 4,
  "nbformat_minor": 0,
  "metadata": {
    "colab": {
      "provenance": [],
      "gpuType": "T4",
      "authorship_tag": "ABX9TyP6BtNFtDFiinBMYgFVGtzA",
      "include_colab_link": true
    },
    "kernelspec": {
      "name": "python3",
      "display_name": "Python 3"
    },
    "language_info": {
      "name": "python"
    },
    "accelerator": "GPU",
    "gpuClass": "standard"
  },
  "cells": [
    {
      "cell_type": "markdown",
      "metadata": {
        "id": "view-in-github",
        "colab_type": "text"
      },
      "source": [
        "<a href=\"https://colab.research.google.com/github/rinshan-bot/natutal-language-processing/blob/main/tensorflow.ipynb\" target=\"_parent\"><img src=\"https://colab.research.google.com/assets/colab-badge.svg\" alt=\"Open In Colab\"/></a>"
      ]
    },
    {
      "cell_type": "code",
      "execution_count": 2,
      "metadata": {
        "id": "EAWGcvFC0I9a"
      },
      "outputs": [],
      "source": [
        "import os\n",
        "os.environ['TF_CPP_MIN_LOG_LEVEL'] = '2'\n",
        "# To avoid the GPU Warning message\n",
        "import tensorflow as tf\n",
        "# physical_devices = tf.config.list_physical_devices('GPU')\n",
        "# print(physical_devices)\n",
        "# tf.config.experimental.set_memory_growth(physical_devices[0],True)"
      ]
    },
    {
      "cell_type": "markdown",
      "source": [
        "Tensor if multidiamensional array\n",
        "\n",
        "\n",
        "\n",
        "1. Initialization  of tensors\n",
        "2. Mathematical operations\n",
        "3. Indexing\n",
        "4. Reshaping"
      ],
      "metadata": {
        "id": "K70R_BRb2PcK"
      }
    },
    {
      "cell_type": "markdown",
      "source": [
        "### Initialization  of tensors"
      ],
      "metadata": {
        "id": "yJtKGpgHnvRV"
      }
    },
    {
      "cell_type": "code",
      "source": [
        "x = tf.constant(4)\n",
        "print(x)\n",
        "x = tf.constant(4.0)\n",
        "print(x)\n",
        "x = tf.constant(4.0,shape=(1,1))\n",
        "print(x)\n",
        "x = tf.constant(4,shape=(1,1),dtype=tf.float32)\n",
        "print(x)\n",
        "x = tf.constant([[1,2,3],[4,5,6]],dtype=tf.float32)\n",
        "print(x)"
      ],
      "metadata": {
        "colab": {
          "base_uri": "https://localhost:8080/"
        },
        "id": "Ifw5HfRA2BR5",
        "outputId": "fa899512-c672-4ebf-f536-3ed02e6faff7"
      },
      "execution_count": 16,
      "outputs": [
        {
          "output_type": "stream",
          "name": "stdout",
          "text": [
            "tf.Tensor(4, shape=(), dtype=int32)\n",
            "tf.Tensor(4.0, shape=(), dtype=float32)\n",
            "tf.Tensor([[4.]], shape=(1, 1), dtype=float32)\n",
            "tf.Tensor([[4.]], shape=(1, 1), dtype=float32)\n",
            "tf.Tensor(\n",
            "[[1. 2. 3.]\n",
            " [4. 5. 6.]], shape=(2, 3), dtype=float32)\n"
          ]
        }
      ]
    },
    {
      "cell_type": "code",
      "source": [
        "x = tf.ones((3,3))\n",
        "print(x)\n",
        "x = tf.zeros((3,3))\n",
        "print(x)\n",
        "x = tf.eye(3) # Indentity matrix\n",
        "print(x)"
      ],
      "metadata": {
        "colab": {
          "base_uri": "https://localhost:8080/"
        },
        "id": "OiXWI6NijCQO",
        "outputId": "7da9ae86-eff9-42c6-8f50-f6880865cdee"
      },
      "execution_count": 19,
      "outputs": [
        {
          "output_type": "stream",
          "name": "stdout",
          "text": [
            "tf.Tensor(\n",
            "[[1. 1. 1.]\n",
            " [1. 1. 1.]\n",
            " [1. 1. 1.]], shape=(3, 3), dtype=float32)\n",
            "tf.Tensor(\n",
            "[[0. 0. 0.]\n",
            " [0. 0. 0.]\n",
            " [0. 0. 0.]], shape=(3, 3), dtype=float32)\n",
            "tf.Tensor(\n",
            "[[1. 0. 0.]\n",
            " [0. 1. 0.]\n",
            " [0. 0. 1.]], shape=(3, 3), dtype=float32)\n"
          ]
        }
      ]
    },
    {
      "cell_type": "code",
      "source": [
        "x = tf.random.normal((3,3),mean=0,stddev=1)\n",
        "print(x)\n",
        "x = tf.random.uniform((1,3),minval=1,maxval=2)\n",
        "print(x)"
      ],
      "metadata": {
        "colab": {
          "base_uri": "https://localhost:8080/"
        },
        "id": "RboOJjN9j7u0",
        "outputId": "6876eab1-5e43-4c42-dc32-b644929b0536"
      },
      "execution_count": 31,
      "outputs": [
        {
          "output_type": "stream",
          "name": "stdout",
          "text": [
            "tf.Tensor(\n",
            "[[-0.00839665  0.12513153 -1.0209956 ]\n",
            " [ 0.28299028 -1.8376423   1.1970675 ]\n",
            " [-0.4849051   0.39539403 -1.1354313 ]], shape=(3, 3), dtype=float32)\n",
            "tf.Tensor([[1.2976923 1.9628847 1.4288737]], shape=(1, 3), dtype=float32)\n"
          ]
        }
      ]
    },
    {
      "cell_type": "code",
      "source": [
        "x = tf.range(9)\n",
        "print(x)\n",
        "x = tf.range(start=2,limit=10,delta=2) # Delta is step\n",
        "print(x)\n",
        "y = tf.cast(x,dtype=tf.float64)\n",
        "print(y)\n",
        "#tf.float,tf.int,tf.int for other types of casting"
      ],
      "metadata": {
        "colab": {
          "base_uri": "https://localhost:8080/"
        },
        "id": "JpPUD7OhlqD_",
        "outputId": "c6c9ab7f-8fbd-401e-a5b2-993400ef7863"
      },
      "execution_count": 35,
      "outputs": [
        {
          "output_type": "stream",
          "name": "stdout",
          "text": [
            "tf.Tensor([0 1 2 3 4 5 6 7 8], shape=(9,), dtype=int32)\n",
            "tf.Tensor([2 4 6 8], shape=(4,), dtype=int32)\n",
            "tf.Tensor([2. 4. 6. 8.], shape=(4,), dtype=float64)\n"
          ]
        }
      ]
    },
    {
      "cell_type": "markdown",
      "source": [
        "### Mathematical operations"
      ],
      "metadata": {
        "id": "BTrXbikmn2tM"
      }
    },
    {
      "cell_type": "code",
      "source": [
        "x = tf.constant([4,5,6])\n",
        "y = tf.constant([7,8,9])\n",
        "z = tf.add(x,y) # OR\n",
        "z = x+y\n",
        "print(z)\n",
        "z = tf.subtract(x,y) # OR\n",
        "z = x - y\n",
        "print(z)\n",
        "z = tf.divide(x,y) # OR\n",
        "z = x / y\n",
        "print(z)\n",
        "z = tf.multiply(x,y) # OR\n",
        "z = x * y\n",
        "print(z)"
      ],
      "metadata": {
        "colab": {
          "base_uri": "https://localhost:8080/"
        },
        "id": "7lgKWDkjmNRr",
        "outputId": "858a41a6-6390-4974-8afa-9f7c1404ef66"
      },
      "execution_count": 39,
      "outputs": [
        {
          "output_type": "stream",
          "name": "stdout",
          "text": [
            "tf.Tensor([11 13 15], shape=(3,), dtype=int32)\n",
            "tf.Tensor([-3 -3 -3], shape=(3,), dtype=int32)\n",
            "tf.Tensor([0.57142857 0.625      0.66666667], shape=(3,), dtype=float64)\n",
            "tf.Tensor([28 40 54], shape=(3,), dtype=int32)\n"
          ]
        }
      ]
    },
    {
      "cell_type": "code",
      "source": [
        "# Dot product\n",
        "z = tf.tensordot(x,y,axes=1)\n",
        "print(z)\n",
        "# Manually do the dot product\n",
        "z = tf.reduce_sum(x*y,axis=0)\n",
        "print(z)"
      ],
      "metadata": {
        "colab": {
          "base_uri": "https://localhost:8080/"
        },
        "id": "WSa1__0DoBmM",
        "outputId": "e7ea9c02-4344-4b9e-fbad-63ef1fc0d987"
      },
      "execution_count": 43,
      "outputs": [
        {
          "output_type": "stream",
          "name": "stdout",
          "text": [
            "tf.Tensor(122, shape=(), dtype=int32)\n",
            "tf.Tensor(122, shape=(), dtype=int32)\n"
          ]
        }
      ]
    },
    {
      "cell_type": "code",
      "source": [
        "# Matrix multiplication\n",
        "x = tf.random.normal((3,4))\n",
        "y = tf.random.normal((4,3))\n",
        "z = tf.matmul(x,y)\n",
        "print(z) # OR\n",
        "z = x @ y\n",
        "print(z)"
      ],
      "metadata": {
        "colab": {
          "base_uri": "https://localhost:8080/"
        },
        "id": "zLN_FDYYo-qA",
        "outputId": "a7613cbf-6ece-4f10-d0c4-f0468d6dac2a"
      },
      "execution_count": 52,
      "outputs": [
        {
          "output_type": "stream",
          "name": "stdout",
          "text": [
            "tf.Tensor(\n",
            "[[-0.34163722  0.72761685 -3.102731  ]\n",
            " [-0.6558639   1.7815247  -0.19629979]\n",
            " [-0.60043573  0.02936329  1.5036434 ]], shape=(3, 3), dtype=float32)\n",
            "tf.Tensor(\n",
            "[[-0.34163722  0.72761685 -3.102731  ]\n",
            " [-0.6558639   1.7815247  -0.19629979]\n",
            " [-0.60043573  0.02936329  1.5036434 ]], shape=(3, 3), dtype=float32)\n"
          ]
        }
      ]
    },
    {
      "cell_type": "markdown",
      "source": [
        "### Indexing"
      ],
      "metadata": {
        "id": "lRnd6xMNQmnW"
      }
    },
    {
      "cell_type": "code",
      "source": [
        "x = tf.constant([7,1,45,15,4,5,67,8,10])\n",
        "print(x[:])\n",
        "print(x[2:])\n",
        "print(x[2:5])\n",
        "print(x[::2])\n",
        "print(x[::-1])"
      ],
      "metadata": {
        "colab": {
          "base_uri": "https://localhost:8080/"
        },
        "id": "L1cMjp1WqOgQ",
        "outputId": "99dc1270-7b5b-4841-8194-d5f1800b8f3e"
      },
      "execution_count": 14,
      "outputs": [
        {
          "output_type": "stream",
          "name": "stdout",
          "text": [
            "tf.Tensor([ 7  1 45 15  4  5 67  8 10], shape=(9,), dtype=int32)\n",
            "tf.Tensor([45 15  4  5 67  8 10], shape=(7,), dtype=int32)\n",
            "tf.Tensor([45 15  4], shape=(3,), dtype=int32)\n",
            "tf.Tensor([ 7 45  4 67 10], shape=(5,), dtype=int32)\n",
            "tf.Tensor([10  8 67  5  4 15 45  1  7], shape=(9,), dtype=int32)\n"
          ]
        }
      ]
    },
    {
      "cell_type": "code",
      "source": [
        "# Get index of tensor\n",
        "indices = tf.constant([0,3,4])\n",
        "x_indices = tf.gather(x,indices)\n",
        "print(x_indices)"
      ],
      "metadata": {
        "colab": {
          "base_uri": "https://localhost:8080/"
        },
        "id": "mH0FQA9vQtki",
        "outputId": "54eb50a0-a92c-4b2c-d99c-43b63505d064"
      },
      "execution_count": 15,
      "outputs": [
        {
          "output_type": "stream",
          "name": "stdout",
          "text": [
            "tf.Tensor([ 7 15  4], shape=(3,), dtype=int32)\n"
          ]
        }
      ]
    },
    {
      "cell_type": "code",
      "source": [
        "# Indexing of matrix\n",
        "x = tf.constant([\n",
        "              [1,2],\n",
        "              [4,5],\n",
        "              [8,9]]\n",
        "              )\n",
        "print(x[0,:])\n",
        "print(x[0:2,:])\n",
        "print(x[1:3,:])"
      ],
      "metadata": {
        "colab": {
          "base_uri": "https://localhost:8080/"
        },
        "id": "RUQjZhr9R7GR",
        "outputId": "71f08e57-3eec-4bc2-d80d-1d99abccd511"
      },
      "execution_count": 18,
      "outputs": [
        {
          "output_type": "stream",
          "name": "stdout",
          "text": [
            "tf.Tensor([1 2], shape=(2,), dtype=int32)\n",
            "tf.Tensor(\n",
            "[[1 2]\n",
            " [4 5]], shape=(2, 2), dtype=int32)\n",
            "tf.Tensor(\n",
            "[[4 5]\n",
            " [8 9]], shape=(2, 2), dtype=int32)\n"
          ]
        }
      ]
    },
    {
      "cell_type": "markdown",
      "source": [
        "### Reshaping"
      ],
      "metadata": {
        "id": "RUvjaMXwTbPD"
      }
    },
    {
      "cell_type": "code",
      "source": [
        "x = tf.range(9)\n",
        "print(x)\n",
        "x = tf.reshape(x,shape=(3,3))\n",
        "print(x)"
      ],
      "metadata": {
        "colab": {
          "base_uri": "https://localhost:8080/"
        },
        "id": "mxq56dA4TIV9",
        "outputId": "0382c0c1-717f-41f8-baa7-7cba0d907dc1"
      },
      "execution_count": 19,
      "outputs": [
        {
          "output_type": "stream",
          "name": "stdout",
          "text": [
            "tf.Tensor([0 1 2 3 4 5 6 7 8], shape=(9,), dtype=int32)\n",
            "tf.Tensor(\n",
            "[[0 1 2]\n",
            " [3 4 5]\n",
            " [6 7 8]], shape=(3, 3), dtype=int32)\n"
          ]
        }
      ]
    },
    {
      "cell_type": "code",
      "source": [
        "x = tf.transpose(x,perm=[1,0])\n",
        "print(x)"
      ],
      "metadata": {
        "colab": {
          "base_uri": "https://localhost:8080/"
        },
        "id": "9uJAUD0fTjXp",
        "outputId": "1182d6a0-ba6a-461e-c78e-f647d51b44ac"
      },
      "execution_count": 20,
      "outputs": [
        {
          "output_type": "stream",
          "name": "stdout",
          "text": [
            "tf.Tensor(\n",
            "[[0 3 6]\n",
            " [1 4 7]\n",
            " [2 5 8]], shape=(3, 3), dtype=int32)\n"
          ]
        }
      ]
    },
    {
      "cell_type": "code",
      "source": [],
      "metadata": {
        "id": "eOzHuIUuT1Z3"
      },
      "execution_count": null,
      "outputs": []
    }
  ]
}